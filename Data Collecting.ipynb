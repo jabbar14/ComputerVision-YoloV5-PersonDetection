{
 "cells": [
  {
   "cell_type": "markdown",
   "id": "3d5cda7d",
   "metadata": {},
   "source": [
    "## Mendownload Data dari COCO Dataset menggunakan Library FIFTYONE"
   ]
  },
  {
   "cell_type": "code",
   "execution_count": 1,
   "id": "d786fac1",
   "metadata": {
    "scrolled": true
   },
   "outputs": [
    {
     "name": "stdout",
     "output_type": "stream",
     "text": [
      "Migrating database to v0.21.6\n"
     ]
    }
   ],
   "source": [
    "import fiftyone as fo\n",
    "import fiftyone.zoo as foz"
   ]
  },
  {
   "cell_type": "code",
   "execution_count": 4,
   "id": "f0b734bd",
   "metadata": {},
   "outputs": [
    {
     "name": "stdout",
     "output_type": "stream",
     "text": [
      "Downloading split 'train' to 'C:\\Users\\acer\\fiftyone\\coco-2017\\train' if necessary\n",
      "Found annotations at 'C:\\Users\\acer\\fiftyone\\coco-2017\\raw\\instances_train2017.json'\n",
      "4999 images found; downloading the remaining 1\n",
      " 100% |██████████████████████| 1/1 [5.6s elapsed, 0s remaining, 0.2 images/s] \n",
      "Writing annotations for 5000 downloaded samples to 'C:\\Users\\acer\\fiftyone\\coco-2017\\train\\labels.json'\n",
      "Dataset info written to 'C:\\Users\\acer\\fiftyone\\coco-2017\\info.json'\n",
      "Loading 'coco-2017' split 'train'\n",
      " 100% |███████████████| 5000/5000 [5.5m elapsed, 0s remaining, 1.4 samples/s]       \n",
      "Dataset 'coco-2017-train-5000' created\n"
     ]
    }
   ],
   "source": [
    "# Download the COCO dataset for only the \"person\" classes\n",
    "dataset = foz.load_zoo_dataset(\n",
    "    \"coco-2017\",\n",
    "    split=\"train\", #Data yang mau diambil adalah data Train yang berasal dari COCO Dataset\n",
    "    label_types=[\"detections\", \"segmentations\"],\n",
    "    classes=[\"person\"],\n",
    "    max_samples=5000,\n",
    ")"
   ]
  },
  {
   "cell_type": "code",
   "execution_count": null,
   "id": "6a3e144b",
   "metadata": {},
   "outputs": [],
   "source": []
  }
 ],
 "metadata": {
  "kernelspec": {
   "display_name": "Python 3",
   "language": "python",
   "name": "python3"
  },
  "language_info": {
   "codemirror_mode": {
    "name": "ipython",
    "version": 3
   },
   "file_extension": ".py",
   "mimetype": "text/x-python",
   "name": "python",
   "nbconvert_exporter": "python",
   "pygments_lexer": "ipython3",
   "version": "3.8.8"
  }
 },
 "nbformat": 4,
 "nbformat_minor": 5
}
